{
 "cells": [
  {
   "cell_type": "code",
   "execution_count": 1,
   "metadata": {},
   "outputs": [],
   "source": [
    "import pandas as pd\n",
    "import sys\n",
    "from time import sleep\n",
    "import configparser\n",
    "import os"
   ]
  },
  {
   "cell_type": "code",
   "execution_count": 2,
   "metadata": {},
   "outputs": [],
   "source": [
    "sys.path.append('..')\n",
    "\n",
    "from aws import MyCluster"
   ]
  },
  {
   "cell_type": "code",
   "execution_count": 3,
   "metadata": {},
   "outputs": [
    {
     "data": {
      "text/html": [
       "<div>\n",
       "<style scoped>\n",
       "    .dataframe tbody tr th:only-of-type {\n",
       "        vertical-align: middle;\n",
       "    }\n",
       "\n",
       "    .dataframe tbody tr th {\n",
       "        vertical-align: top;\n",
       "    }\n",
       "\n",
       "    .dataframe thead th {\n",
       "        text-align: right;\n",
       "    }\n",
       "</style>\n",
       "<table border=\"1\" class=\"dataframe\">\n",
       "  <thead>\n",
       "    <tr style=\"text-align: right;\">\n",
       "      <th></th>\n",
       "      <th>Property</th>\n",
       "      <th>Value</th>\n",
       "    </tr>\n",
       "  </thead>\n",
       "  <tbody>\n",
       "    <tr>\n",
       "      <th>0</th>\n",
       "      <td>num_nodes</td>\n",
       "      <td>1</td>\n",
       "    </tr>\n",
       "    <tr>\n",
       "      <th>1</th>\n",
       "      <td>node_type</td>\n",
       "      <td>dc2.large</td>\n",
       "    </tr>\n",
       "    <tr>\n",
       "      <th>2</th>\n",
       "      <td>cluster_identifier</td>\n",
       "      <td>dwhCluster</td>\n",
       "    </tr>\n",
       "  </tbody>\n",
       "</table>\n",
       "</div>"
      ],
      "text/plain": [
       "             Property       Value\n",
       "0           num_nodes           1\n",
       "1           node_type   dc2.large\n",
       "2  cluster_identifier  dwhCluster"
      ]
     },
     "execution_count": 3,
     "metadata": {},
     "output_type": "execute_result"
    }
   ],
   "source": [
    "config = configparser.ConfigParser()\n",
    "config.read_file(open(os.path.join('..', 'dwh.cfg')))\n",
    "\n",
    "pd.DataFrame(config.items('DWH'), columns=['Property', 'Value'])"
   ]
  },
  {
   "cell_type": "code",
   "execution_count": 4,
   "metadata": {},
   "outputs": [
    {
     "name": "stdout",
     "output_type": "stream",
     "text": [
      "AWS MyCluster: Creating session.\n",
      "AWS MyCluster: Creating role.\n",
      "AWS MyCluster: Role created.\n",
      "AWS MyCluster: Updating config file (IAM_ROLE ARN).\n",
      "AWS MyCluster: Creating cluster.\n",
      "AWS MyCluster: Checking if cluster is in transition state.\n",
      "AWS MyCluster: Getting cluster status.\n",
      "AWS MyCluster: Status returned 'creating'.\n",
      "AWS MyCluster: Getting cluster status.\n",
      "AWS MyCluster: Status returned 'creating'.\n",
      "AWS MyCluster: Getting cluster status.\n",
      "AWS MyCluster: Status returned 'creating'.\n",
      "AWS MyCluster: Getting cluster status.\n",
      "AWS MyCluster: Status returned 'creating'.\n",
      "AWS MyCluster: Getting cluster status.\n",
      "AWS MyCluster: Status returned 'creating'.\n",
      "AWS MyCluster: Getting cluster status.\n",
      "AWS MyCluster: Status returned 'creating'.\n",
      "AWS MyCluster: Getting cluster status.\n",
      "AWS MyCluster: Status returned 'available'.\n",
      "AWS MyCluster: Authorizing ingress.\n",
      "AWS MyCluster: Updating config file (DB HOST).\n"
     ]
    }
   ],
   "source": [
    "filepath = os.path.join('..', 'dwh.cfg')\n",
    "myCluster = MyCluster(filepath)\n",
    "\n",
    "myCluster.up()"
   ]
  },
  {
   "cell_type": "code",
   "execution_count": 5,
   "metadata": {},
   "outputs": [
    {
     "name": "stdout",
     "output_type": "stream",
     "text": [
      "AWS MyCluster: Deliting cluster.\n",
      "AWS MyCluster: Checking if cluster is in transition state.\n",
      "AWS MyCluster: Getting cluster status.\n",
      "AWS MyCluster: Status returned 'deleting'.\n",
      "AWS MyCluster: Getting cluster status.\n",
      "AWS MyCluster: Status returned 'deleting'.\n",
      "AWS MyCluster: Getting cluster status.\n",
      "AWS MyCluster: Status returned 'deleting'.\n",
      "AWS MyCluster: Getting cluster status.\n",
      "AWS MyCluster: Status returned 'NotFound'.\n",
      "AWS MyCluster: Deleting session.\n"
     ]
    }
   ],
   "source": [
    "myCluster.down()"
   ]
  },
  {
   "cell_type": "code",
   "execution_count": null,
   "metadata": {},
   "outputs": [],
   "source": []
  }
 ],
 "metadata": {
  "interpreter": {
   "hash": "2b36fbeaf2129fd9483dfa3cbbec24cf9003a90911d9d3242f3c6010955976db"
  },
  "kernelspec": {
   "display_name": "Python 3.9.7 64-bit ('.venv': venv)",
   "language": "python",
   "name": "python3"
  },
  "language_info": {
   "codemirror_mode": {
    "name": "ipython",
    "version": 3
   },
   "file_extension": ".py",
   "mimetype": "text/x-python",
   "name": "python",
   "nbconvert_exporter": "python",
   "pygments_lexer": "ipython3",
   "version": "3.9.7"
  },
  "orig_nbformat": 4
 },
 "nbformat": 4,
 "nbformat_minor": 2
}
