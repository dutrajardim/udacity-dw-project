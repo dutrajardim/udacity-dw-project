{
 "cells": [
  {
   "cell_type": "code",
   "execution_count": 1,
   "metadata": {},
   "outputs": [],
   "source": [
    "import pandas as pd"
   ]
  },
  {
   "cell_type": "code",
   "execution_count": 2,
   "metadata": {},
   "outputs": [],
   "source": [
    "import os, sys\n",
    "sys.path.append(os.path.join('..', 'aws'))"
   ]
  },
  {
   "cell_type": "code",
   "execution_count": 5,
   "metadata": {},
   "outputs": [
    {
     "name": "stdout",
     "output_type": "stream",
     "text": [
      "Overwriting ../aws/session_get.py\n"
     ]
    }
   ],
   "source": [
    "%load ../aws/session_get.py"
   ]
  },
  {
   "cell_type": "code",
   "execution_count": 3,
   "metadata": {},
   "outputs": [
    {
     "data": {
      "text/html": [
       "<div>\n",
       "<style scoped>\n",
       "    .dataframe tbody tr th:only-of-type {\n",
       "        vertical-align: middle;\n",
       "    }\n",
       "\n",
       "    .dataframe tbody tr th {\n",
       "        vertical-align: top;\n",
       "    }\n",
       "\n",
       "    .dataframe thead th {\n",
       "        text-align: right;\n",
       "    }\n",
       "</style>\n",
       "<table border=\"1\" class=\"dataframe\">\n",
       "  <thead>\n",
       "    <tr style=\"text-align: right;\">\n",
       "      <th></th>\n",
       "      <th>PolicyName</th>\n",
       "      <th>PolicyId</th>\n",
       "      <th>Arn</th>\n",
       "      <th>Path</th>\n",
       "      <th>DefaultVersionId</th>\n",
       "      <th>AttachmentCount</th>\n",
       "      <th>PermissionsBoundaryUsageCount</th>\n",
       "      <th>IsAttachable</th>\n",
       "      <th>CreateDate</th>\n",
       "      <th>UpdateDate</th>\n",
       "    </tr>\n",
       "  </thead>\n",
       "  <tbody>\n",
       "    <tr>\n",
       "      <th>0</th>\n",
       "      <td>Pvoclabs1</td>\n",
       "      <td>ANPA342YABPXJ2VLEOLAE</td>\n",
       "      <td>arn:aws:iam::817838951406:policy/Pvoclabs1</td>\n",
       "      <td>/</td>\n",
       "      <td>v1</td>\n",
       "      <td>1</td>\n",
       "      <td>0</td>\n",
       "      <td>True</td>\n",
       "      <td>2021-10-16 03:11:00+00:00</td>\n",
       "      <td>2021-10-16 03:11:00+00:00</td>\n",
       "    </tr>\n",
       "    <tr>\n",
       "      <th>1</th>\n",
       "      <td>Pvoclabs2</td>\n",
       "      <td>ANPA342YABPXB3WWLAMDJ</td>\n",
       "      <td>arn:aws:iam::817838951406:policy/Pvoclabs2</td>\n",
       "      <td>/</td>\n",
       "      <td>v1</td>\n",
       "      <td>1</td>\n",
       "      <td>0</td>\n",
       "      <td>True</td>\n",
       "      <td>2021-10-16 03:11:03+00:00</td>\n",
       "      <td>2021-10-16 03:11:03+00:00</td>\n",
       "    </tr>\n",
       "    <tr>\n",
       "      <th>2</th>\n",
       "      <td>Pvoclabs3</td>\n",
       "      <td>ANPA342YABPXBC6P27ENW</td>\n",
       "      <td>arn:aws:iam::817838951406:policy/Pvoclabs3</td>\n",
       "      <td>/</td>\n",
       "      <td>v1</td>\n",
       "      <td>1</td>\n",
       "      <td>0</td>\n",
       "      <td>True</td>\n",
       "      <td>2021-10-16 03:11:05+00:00</td>\n",
       "      <td>2021-10-16 03:11:05+00:00</td>\n",
       "    </tr>\n",
       "    <tr>\n",
       "      <th>3</th>\n",
       "      <td>voc-cancel-cred</td>\n",
       "      <td>ANPA342YABPXA44G4YRKI</td>\n",
       "      <td>arn:aws:iam::817838951406:policy/voc-cancel-cred</td>\n",
       "      <td>/</td>\n",
       "      <td>v1</td>\n",
       "      <td>2</td>\n",
       "      <td>0</td>\n",
       "      <td>True</td>\n",
       "      <td>2021-11-16 17:58:17+00:00</td>\n",
       "      <td>2021-11-16 17:58:17+00:00</td>\n",
       "    </tr>\n",
       "    <tr>\n",
       "      <th>4</th>\n",
       "      <td>AWSDirectConnectReadOnlyAccess</td>\n",
       "      <td>ANPAI23HZ27SI6FQMGNQ2</td>\n",
       "      <td>arn:aws:iam::aws:policy/AWSDirectConnectReadOn...</td>\n",
       "      <td>/</td>\n",
       "      <td>v4</td>\n",
       "      <td>0</td>\n",
       "      <td>0</td>\n",
       "      <td>True</td>\n",
       "      <td>2015-02-06 18:40:08+00:00</td>\n",
       "      <td>2020-05-18 18:48:22+00:00</td>\n",
       "    </tr>\n",
       "  </tbody>\n",
       "</table>\n",
       "</div>"
      ],
      "text/plain": [
       "                       PolicyName               PolicyId  \\\n",
       "0                       Pvoclabs1  ANPA342YABPXJ2VLEOLAE   \n",
       "1                       Pvoclabs2  ANPA342YABPXB3WWLAMDJ   \n",
       "2                       Pvoclabs3  ANPA342YABPXBC6P27ENW   \n",
       "3                 voc-cancel-cred  ANPA342YABPXA44G4YRKI   \n",
       "4  AWSDirectConnectReadOnlyAccess  ANPAI23HZ27SI6FQMGNQ2   \n",
       "\n",
       "                                                 Arn Path DefaultVersionId  \\\n",
       "0         arn:aws:iam::817838951406:policy/Pvoclabs1    /               v1   \n",
       "1         arn:aws:iam::817838951406:policy/Pvoclabs2    /               v1   \n",
       "2         arn:aws:iam::817838951406:policy/Pvoclabs3    /               v1   \n",
       "3   arn:aws:iam::817838951406:policy/voc-cancel-cred    /               v1   \n",
       "4  arn:aws:iam::aws:policy/AWSDirectConnectReadOn...    /               v4   \n",
       "\n",
       "   AttachmentCount  PermissionsBoundaryUsageCount  IsAttachable  \\\n",
       "0                1                              0          True   \n",
       "1                1                              0          True   \n",
       "2                1                              0          True   \n",
       "3                2                              0          True   \n",
       "4                0                              0          True   \n",
       "\n",
       "                 CreateDate                UpdateDate  \n",
       "0 2021-10-16 03:11:00+00:00 2021-10-16 03:11:00+00:00  \n",
       "1 2021-10-16 03:11:03+00:00 2021-10-16 03:11:03+00:00  \n",
       "2 2021-10-16 03:11:05+00:00 2021-10-16 03:11:05+00:00  \n",
       "3 2021-11-16 17:58:17+00:00 2021-11-16 17:58:17+00:00  \n",
       "4 2015-02-06 18:40:08+00:00 2020-05-18 18:48:22+00:00  "
      ]
     },
     "execution_count": 3,
     "metadata": {},
     "output_type": "execute_result"
    }
   ],
   "source": [
    "from session_get import session_get\n",
    "\n",
    "session = session_get()\n",
    "iam_client = session.client('iam')\n",
    "\n",
    "resp = iam_client.list_policies(MaxItems=1000)\n",
    "df_policies = pd.DataFrame(resp['Policies'])\n",
    "df_policies.head()"
   ]
  },
  {
   "cell_type": "code",
   "execution_count": 4,
   "metadata": {},
   "outputs": [
    {
     "data": {
      "text/html": [
       "<div>\n",
       "<style scoped>\n",
       "    .dataframe tbody tr th:only-of-type {\n",
       "        vertical-align: middle;\n",
       "    }\n",
       "\n",
       "    .dataframe tbody tr th {\n",
       "        vertical-align: top;\n",
       "    }\n",
       "\n",
       "    .dataframe thead th {\n",
       "        text-align: right;\n",
       "    }\n",
       "</style>\n",
       "<table border=\"1\" class=\"dataframe\">\n",
       "  <thead>\n",
       "    <tr style=\"text-align: right;\">\n",
       "      <th></th>\n",
       "      <th>index</th>\n",
       "      <th>PolicyName</th>\n",
       "      <th>PolicyId</th>\n",
       "      <th>Arn</th>\n",
       "      <th>Path</th>\n",
       "      <th>DefaultVersionId</th>\n",
       "      <th>AttachmentCount</th>\n",
       "      <th>PermissionsBoundaryUsageCount</th>\n",
       "      <th>IsAttachable</th>\n",
       "      <th>CreateDate</th>\n",
       "      <th>UpdateDate</th>\n",
       "    </tr>\n",
       "  </thead>\n",
       "  <tbody>\n",
       "    <tr>\n",
       "      <th>0</th>\n",
       "      <td>233</td>\n",
       "      <td>AmazonS3ReadOnlyAccess</td>\n",
       "      <td>ANPAIZTJ4DXE7G6AGAE6M</td>\n",
       "      <td>arn:aws:iam::aws:policy/AmazonS3ReadOnlyAccess</td>\n",
       "      <td>/</td>\n",
       "      <td>v2</td>\n",
       "      <td>1</td>\n",
       "      <td>0</td>\n",
       "      <td>True</td>\n",
       "      <td>2015-02-06 18:40:59+00:00</td>\n",
       "      <td>2021-09-27 20:24:58+00:00</td>\n",
       "    </tr>\n",
       "  </tbody>\n",
       "</table>\n",
       "</div>"
      ],
      "text/plain": [
       "   index              PolicyName               PolicyId  \\\n",
       "0    233  AmazonS3ReadOnlyAccess  ANPAIZTJ4DXE7G6AGAE6M   \n",
       "\n",
       "                                              Arn Path DefaultVersionId  \\\n",
       "0  arn:aws:iam::aws:policy/AmazonS3ReadOnlyAccess    /               v2   \n",
       "\n",
       "   AttachmentCount  PermissionsBoundaryUsageCount  IsAttachable  \\\n",
       "0                1                              0          True   \n",
       "\n",
       "                 CreateDate                UpdateDate  \n",
       "0 2015-02-06 18:40:59+00:00 2021-09-27 20:24:58+00:00  "
      ]
     },
     "execution_count": 4,
     "metadata": {},
     "output_type": "execute_result"
    }
   ],
   "source": [
    "df_s3_policy = df_policies.query(\"PolicyName == 'AmazonS3ReadOnlyAccess'\").reset_index()\n",
    "df_s3_policy"
   ]
  },
  {
   "cell_type": "code",
   "execution_count": 4,
   "metadata": {},
   "outputs": [
    {
     "name": "stdout",
     "output_type": "stream",
     "text": [
      "Overwriting ../aws/update_config.py\n"
     ]
    }
   ],
   "source": [
    "%load ../aws/update_config.py"
   ]
  },
  {
   "cell_type": "code",
   "execution_count": 3,
   "metadata": {},
   "outputs": [],
   "source": [
    "from update_config import update_config\n",
    "from session_get import session_get\n",
    "\n",
    "session = session_get()\n",
    "update_config(session)"
   ]
  },
  {
   "cell_type": "code",
   "execution_count": 94,
   "metadata": {},
   "outputs": [
    {
     "name": "stdout",
     "output_type": "stream",
     "text": [
      "Writing ../aws/sparkifydwh_role_create.py\n"
     ]
    }
   ],
   "source": [
    "%load ../aws/sparkifydwh_role_create.py"
   ]
  },
  {
   "cell_type": "code",
   "execution_count": null,
   "metadata": {},
   "outputs": [],
   "source": [
    "from sparkifydwh_role_create import sparkifydwh_role_create\n",
    "from session_get import session_get\n",
    "\n",
    "session = session_get()\n",
    "sparkifydwh_role_create(session)"
   ]
  },
  {
   "cell_type": "code",
   "execution_count": 100,
   "metadata": {},
   "outputs": [
    {
     "name": "stdout",
     "output_type": "stream",
     "text": [
      "Writing ../aws/sparkifydwh_role_delete.py\n"
     ]
    }
   ],
   "source": [
    "%load ../aws/sparkifydwh_role_delete.py"
   ]
  },
  {
   "cell_type": "code",
   "execution_count": null,
   "metadata": {},
   "outputs": [],
   "source": [
    "from sparkifydwh_role_delete import sparkifydwh_role_delete\n",
    "from session_get import session_get\n",
    "\n",
    "session = session_get()\n",
    "sparkifydwh_role_delete(session)"
   ]
  },
  {
   "cell_type": "code",
   "execution_count": 4,
   "metadata": {},
   "outputs": [
    {
     "name": "stdout",
     "output_type": "stream",
     "text": [
      "Overwriting ../aws/redshift_cluster_create.py\n"
     ]
    }
   ],
   "source": [
    "%load ../aws/redshift_cluster_create.py"
   ]
  },
  {
   "cell_type": "code",
   "execution_count": null,
   "metadata": {},
   "outputs": [],
   "source": [
    "from redshift_cluster_create import redshift_cluster_create\n",
    "from session_get import session_get\n",
    "\n",
    "session = session_get()\n",
    "redshift_cluster_create(session)"
   ]
  },
  {
   "cell_type": "code",
   "execution_count": 4,
   "metadata": {},
   "outputs": [],
   "source": [
    "redshift_client = session.client('redshift')"
   ]
  },
  {
   "cell_type": "code",
   "execution_count": 15,
   "metadata": {},
   "outputs": [
    {
     "data": {
      "text/plain": [
       "'deleting'"
      ]
     },
     "execution_count": 15,
     "metadata": {},
     "output_type": "execute_result"
    }
   ],
   "source": [
    "resp = redshift_client.describe_clusters(ClusterIdentifier='dwhcluster')\n",
    "resp['Clusters'][0]['ClusterStatus']"
   ]
  },
  {
   "cell_type": "code",
   "execution_count": null,
   "metadata": {},
   "outputs": [],
   "source": [
    "redshift_client.delete_cluster(\n",
    "    ClusterIdentifier='dwhcluster',\n",
    "    SkipFinalClusterSnapshot=True\n",
    ")"
   ]
  },
  {
   "cell_type": "code",
   "execution_count": 16,
   "metadata": {},
   "outputs": [
    {
     "name": "stdout",
     "output_type": "stream",
     "text": [
      "Writing ../aws/ingress_authorize.py\n"
     ]
    }
   ],
   "source": [
    "%load ../aws/ingress_authorize.py"
   ]
  },
  {
   "cell_type": "code",
   "execution_count": null,
   "metadata": {},
   "outputs": [],
   "source": []
  }
 ],
 "metadata": {
  "interpreter": {
   "hash": "2b36fbeaf2129fd9483dfa3cbbec24cf9003a90911d9d3242f3c6010955976db"
  },
  "kernelspec": {
   "display_name": "Python 3.9.7 64-bit ('.venv': venv)",
   "language": "python",
   "name": "python3"
  },
  "language_info": {
   "codemirror_mode": {
    "name": "ipython",
    "version": 3
   },
   "file_extension": ".py",
   "mimetype": "text/x-python",
   "name": "python",
   "nbconvert_exporter": "python",
   "pygments_lexer": "ipython3",
   "version": "3.9.7"
  },
  "orig_nbformat": 4
 },
 "nbformat": 4,
 "nbformat_minor": 2
}
