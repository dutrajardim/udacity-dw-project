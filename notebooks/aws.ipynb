{
 "cells": [
  {
   "cell_type": "code",
   "execution_count": 58,
   "metadata": {},
   "outputs": [],
   "source": [
    "import boto3\n",
    "import pandas as pd\n",
    "import configparser\n",
    "import os\n",
    "import json"
   ]
  },
  {
   "cell_type": "code",
   "execution_count": 78,
   "metadata": {},
   "outputs": [],
   "source": [
    "# setting configuration filepath\n",
    "filepath = os.path.join('..', 'dwh.cfg')\n",
    "\n",
    "# loading configuration file\n",
    "config = configparser.ConfigParser()\n",
    "config.read_file(open(filepath))"
   ]
  },
  {
   "cell_type": "code",
   "execution_count": 79,
   "metadata": {},
   "outputs": [],
   "source": [
    "KEY = config.get('AWS', 'KEY')\n",
    "SECRET = config.get('AWS', 'SECRET')"
   ]
  },
  {
   "cell_type": "code",
   "execution_count": 13,
   "metadata": {},
   "outputs": [],
   "source": [
    "session = boto3.session.Session(\n",
    "    aws_access_key_id=KEY,\n",
    "    aws_secret_access_key=SECRET,\n",
    "    region_name='us-west-2'\n",
    ")"
   ]
  },
  {
   "cell_type": "code",
   "execution_count": 14,
   "metadata": {},
   "outputs": [],
   "source": [
    "iam_client = session.client('iam')"
   ]
  },
  {
   "cell_type": "code",
   "execution_count": 24,
   "metadata": {},
   "outputs": [],
   "source": [
    "resp = iam_client.list_policies(MaxItems=1000)\n",
    "df_policies = pd.DataFrame(resp['Policies'])"
   ]
  },
  {
   "cell_type": "code",
   "execution_count": 54,
   "metadata": {},
   "outputs": [
    {
     "data": {
      "text/html": [
       "<div>\n",
       "<style scoped>\n",
       "    .dataframe tbody tr th:only-of-type {\n",
       "        vertical-align: middle;\n",
       "    }\n",
       "\n",
       "    .dataframe tbody tr th {\n",
       "        vertical-align: top;\n",
       "    }\n",
       "\n",
       "    .dataframe thead th {\n",
       "        text-align: right;\n",
       "    }\n",
       "</style>\n",
       "<table border=\"1\" class=\"dataframe\">\n",
       "  <thead>\n",
       "    <tr style=\"text-align: right;\">\n",
       "      <th></th>\n",
       "      <th>index</th>\n",
       "      <th>PolicyName</th>\n",
       "      <th>PolicyId</th>\n",
       "      <th>Arn</th>\n",
       "      <th>Path</th>\n",
       "      <th>DefaultVersionId</th>\n",
       "      <th>AttachmentCount</th>\n",
       "      <th>PermissionsBoundaryUsageCount</th>\n",
       "      <th>IsAttachable</th>\n",
       "      <th>CreateDate</th>\n",
       "      <th>UpdateDate</th>\n",
       "    </tr>\n",
       "  </thead>\n",
       "  <tbody>\n",
       "    <tr>\n",
       "      <th>0</th>\n",
       "      <td>233</td>\n",
       "      <td>AmazonS3ReadOnlyAccess</td>\n",
       "      <td>ANPAIZTJ4DXE7G6AGAE6M</td>\n",
       "      <td>arn:aws:iam::aws:policy/AmazonS3ReadOnlyAccess</td>\n",
       "      <td>/</td>\n",
       "      <td>v2</td>\n",
       "      <td>0</td>\n",
       "      <td>0</td>\n",
       "      <td>True</td>\n",
       "      <td>2015-02-06 18:40:59+00:00</td>\n",
       "      <td>2021-09-27 20:24:58+00:00</td>\n",
       "    </tr>\n",
       "  </tbody>\n",
       "</table>\n",
       "</div>"
      ],
      "text/plain": [
       "   index              PolicyName               PolicyId  \\\n",
       "0    233  AmazonS3ReadOnlyAccess  ANPAIZTJ4DXE7G6AGAE6M   \n",
       "\n",
       "                                              Arn Path DefaultVersionId  \\\n",
       "0  arn:aws:iam::aws:policy/AmazonS3ReadOnlyAccess    /               v2   \n",
       "\n",
       "   AttachmentCount  PermissionsBoundaryUsageCount  IsAttachable  \\\n",
       "0                0                              0          True   \n",
       "\n",
       "                 CreateDate                UpdateDate  \n",
       "0 2015-02-06 18:40:59+00:00 2021-09-27 20:24:58+00:00  "
      ]
     },
     "execution_count": 54,
     "metadata": {},
     "output_type": "execute_result"
    }
   ],
   "source": [
    "df_s3_policy = df_policies.query(\"PolicyName == 'AmazonS3ReadOnlyAccess'\").reset_index()\n",
    "df_s3_policy"
   ]
  },
  {
   "cell_type": "code",
   "execution_count": 94,
   "metadata": {},
   "outputs": [
    {
     "name": "stdout",
     "output_type": "stream",
     "text": [
      "Writing ../aws/sparkifydwh_role_create.py\n"
     ]
    }
   ],
   "source": [
    "%%writefile ../aws/sparkifydwh_role_create.py\n",
    "\n",
    "def sparkifydwh_role_create (session):\n",
    "    iam_client = session.client('iam')\n",
    "\n",
    "    role_name = 'sparkifydwh_role'\n",
    "    s3_read_only_arn = 'arn:aws:iam::aws:policy/AmazonS3ReadOnlyAccess'\n",
    "    sparkifydwh_role = None\n",
    "\n",
    "    try:\n",
    "        sparkifydwh_role = iam_client.get_role(RoleName=role_name)\n",
    "        print('Role already exists.')\n",
    "    except iam_client.exceptions.NoSuchEntityException as error:\n",
    "        sparkifydwh_role = iam_client.create_role(\n",
    "            RoleName=role_name,\n",
    "            Description='Define the aws accesses for the sparkify data warehouse',\n",
    "            AssumeRolePolicyDocument=json.dumps({\n",
    "                \"Version\": \"2012-10-17\",\n",
    "                \"Statement\": {\n",
    "                    \"Effect\": \"Allow\",\n",
    "                    \"Action\": \"sts:AssumeRole\",\n",
    "                    \"Principal\": {\n",
    "                        \"Service\": \"redshift.amazonaws.com\"\n",
    "                    }\n",
    "                }\n",
    "            })\n",
    "        )\n",
    "\n",
    "        print('Role created.')\n",
    "    except Exception as error:\n",
    "        print(error)\n",
    "    \n",
    "    iam_client.attach_role_policy(RoleName=role_name, PolicyArn=s3_read_only_arn)\n",
    "    \n",
    "    return sparkifydwh_role['Role']['Arn'], role_name "
   ]
  },
  {
   "cell_type": "code",
   "execution_count": 100,
   "metadata": {},
   "outputs": [
    {
     "name": "stdout",
     "output_type": "stream",
     "text": [
      "Writing ../aws/sparkifydwh_role_delete.py\n"
     ]
    }
   ],
   "source": [
    "%%writefile ../aws/sparkifydwh_role_delete.py\n",
    "\n",
    "def sparkifydwh_role_delete (session):\n",
    "    iam_client = session.client('iam')\n",
    "\n",
    "    role_name = 'sparkifydwh_role'\n",
    "    s3_read_only_arn = 'arn:aws:iam::aws:policy/AmazonS3ReadOnlyAccess'\n",
    "\n",
    "    iam_client.detach_role_policy(RoleName=role_name, PolicyArn=s3_read_only_arn)\n",
    "    iam_client.delete_role(RoleName=role_name)"
   ]
  },
  {
   "cell_type": "code",
   "execution_count": 98,
   "metadata": {},
   "outputs": [],
   "source": [
    "sparkifydwh_role_delete(session)"
   ]
  },
  {
   "cell_type": "code",
   "execution_count": 99,
   "metadata": {},
   "outputs": [
    {
     "name": "stdout",
     "output_type": "stream",
     "text": [
      "Role created.\n"
     ]
    },
    {
     "data": {
      "text/plain": [
       "('arn:aws:iam::817838951406:role/sparkifydwh_role', 'sparkifydwh_role')"
      ]
     },
     "execution_count": 99,
     "metadata": {},
     "output_type": "execute_result"
    }
   ],
   "source": [
    "arn, role_name = create_sparkifydwh_role(session)\n",
    "(arn, role_name)"
   ]
  },
  {
   "cell_type": "code",
   "execution_count": 77,
   "metadata": {},
   "outputs": [],
   "source": [
    "config['IAM_ROLE']['ARN'] = sparkifydwh_rol['Role']['Arn']\n",
    "config.write(open(filepath, 'w'))"
   ]
  },
  {
   "cell_type": "code",
   "execution_count": null,
   "metadata": {},
   "outputs": [],
   "source": []
  }
 ],
 "metadata": {
  "interpreter": {
   "hash": "2b36fbeaf2129fd9483dfa3cbbec24cf9003a90911d9d3242f3c6010955976db"
  },
  "kernelspec": {
   "display_name": "Python 3.9.7 64-bit ('.venv': venv)",
   "language": "python",
   "name": "python3"
  },
  "language_info": {
   "codemirror_mode": {
    "name": "ipython",
    "version": 3
   },
   "file_extension": ".py",
   "mimetype": "text/x-python",
   "name": "python",
   "nbconvert_exporter": "python",
   "pygments_lexer": "ipython3",
   "version": "3.9.7"
  },
  "orig_nbformat": 4
 },
 "nbformat": 4,
 "nbformat_minor": 2
}
