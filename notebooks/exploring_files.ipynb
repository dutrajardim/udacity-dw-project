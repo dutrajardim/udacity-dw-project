{
 "cells": [
  {
   "cell_type": "markdown",
   "metadata": {},
   "source": [
    "# Exploring project datasets\n",
    "\n",
    "Sparkify data reside in S3. There is a directory of JSON logs and a directory of JSON songs metadata. In this notebook, we will be looking closer at these files.\n",
    "\n",
    "<a id='s1'></a>\n",
    "## Table of contents\n",
    "\n",
    "* [Loading user-editable configurations](#s2)\n",
    "  * [Setting aws session](#s2-1)\n",
    "  * [Setting s3 client](#s2-2)\n",
    "* [Song data](#s3)\n",
    "  * [S3 list of objects](#s3-1)\n",
    "  * [S3 list of objects - number of rows](#s3-2)\n",
    "  * [S3 list of objects - first object content](#s3-3)\n",
    "* [Log data](#s4)\n",
    "  * [Log data JSON path](#s4-1)\n",
    "  * [S3 list of objects](#s4-2)\n",
    "  * [S3 list of objects - number of rows](#s4-3)\n",
    "  * [S3 list of objects - first object content](#s4-4)"
   ]
  },
  {
   "cell_type": "code",
   "execution_count": 1,
   "metadata": {},
   "outputs": [],
   "source": [
    "from IPython.display import display\n",
    "\n",
    "import pandas as pd\n",
    "import boto3\n",
    "import configparser\n",
    "import os\n",
    "import json"
   ]
  },
  {
   "cell_type": "markdown",
   "metadata": {},
   "source": [
    "<a id='s2'></a>\n",
    "## Loading user-editable configurations\n",
    "[Go to Table of contents](#s1)\n",
    "\n",
    "In the root directory there is a configuration file named 'dwh.default.cfg' with the variables needed to run the project.\n",
    "Before setting those variables, make a copy of it to 'dwh.cf' file, which will be used."
   ]
  },
  {
   "cell_type": "code",
   "execution_count": 2,
   "metadata": {},
   "outputs": [],
   "source": [
    "# setting filepath of the configuration file\n",
    "filepath = os.path.join('..', 'dwh.cfg')\n",
    "\n",
    "# loading configuration file to memory\n",
    "config = configparser.ConfigParser()\n",
    "config.read_file(open(filepath))"
   ]
  },
  {
   "cell_type": "markdown",
   "metadata": {},
   "source": [
    "<a id='s2-1'></a>\n",
    "### Setting aws session\n",
    "[Go to Table of contents](#s1)"
   ]
  },
  {
   "cell_type": "code",
   "execution_count": 3,
   "metadata": {},
   "outputs": [],
   "source": [
    "# getting aws access variables \n",
    "KEY = config.get('AWS', 'KEY')\n",
    "SECRET = config.get('AWS', 'SECRET')\n",
    "REGION = 'us-west-2'\n",
    "\n",
    "# setting aws session\n",
    "aws = boto3.session.Session(\n",
    "    aws_access_key_id=KEY,\n",
    "    aws_secret_access_key=SECRET,\n",
    "    region_name=REGION\n",
    ")"
   ]
  },
  {
   "cell_type": "markdown",
   "metadata": {},
   "source": [
    "<a id='s2-2'></a>\n",
    "\n",
    "### Setting s3 client\n",
    "[Go to Table of contents](#s1)"
   ]
  },
  {
   "cell_type": "code",
   "execution_count": 4,
   "metadata": {},
   "outputs": [],
   "source": [
    "s3_client = aws.client('s3')\n",
    "\n",
    "# loading user configurations of buckets\n",
    "SONG_DATA = config.get('S3', 'SONG_DATA')\n",
    "LOG_DATA = config.get('S3', 'LOG_DATA')\n",
    "LOG_JSONPATH = config.get('S3', 'LOG_JSONPATH')"
   ]
  },
  {
   "cell_type": "markdown",
   "metadata": {},
   "source": [
    "<a id='s3'></a>\n",
    "## Song data\n",
    "[Go to Table of contents](#s1)\n",
    "\n",
    "Description given by udacity:\n",
    "\n",
    "> The first dataset is a subset of real data from the Million Song Dataset. \n",
    "> Each file is in JSON format and contains metadata about a song and the artist of that song. \n",
    "> The files are partitioned by the first three letters of each song's track ID. \n",
    "> For example, here are filepaths to two files in this dataset."
   ]
  },
  {
   "cell_type": "markdown",
   "metadata": {},
   "source": [
    "<a id='s3-1'></a>\n",
    "### S3 list of objects\n",
    "[Go to Table of contents](#s1)"
   ]
  },
  {
   "cell_type": "code",
   "execution_count": 8,
   "metadata": {},
   "outputs": [
    {
     "data": {
      "text/html": [
       "<div>\n",
       "<style scoped>\n",
       "    .dataframe tbody tr th:only-of-type {\n",
       "        vertical-align: middle;\n",
       "    }\n",
       "\n",
       "    .dataframe tbody tr th {\n",
       "        vertical-align: top;\n",
       "    }\n",
       "\n",
       "    .dataframe thead th {\n",
       "        text-align: right;\n",
       "    }\n",
       "</style>\n",
       "<table border=\"1\" class=\"dataframe\">\n",
       "  <thead>\n",
       "    <tr style=\"text-align: right;\">\n",
       "      <th></th>\n",
       "      <th>Key</th>\n",
       "      <th>Size</th>\n",
       "      <th>LastModified</th>\n",
       "    </tr>\n",
       "  </thead>\n",
       "  <tbody>\n",
       "    <tr>\n",
       "      <th>0</th>\n",
       "      <td>song_data/A/A/A/TRAAAAK128F9318786.json</td>\n",
       "      <td>225</td>\n",
       "      <td>2019-04-17 03:20:41+00:00</td>\n",
       "    </tr>\n",
       "    <tr>\n",
       "      <th>1</th>\n",
       "      <td>song_data/A/A/A/TRAAAAV128F421A322.json</td>\n",
       "      <td>284</td>\n",
       "      <td>2019-04-17 03:20:41+00:00</td>\n",
       "    </tr>\n",
       "    <tr>\n",
       "      <th>2</th>\n",
       "      <td>song_data/A/A/A/TRAAABD128F429CF47.json</td>\n",
       "      <td>249</td>\n",
       "      <td>2019-04-17 03:20:41+00:00</td>\n",
       "    </tr>\n",
       "  </tbody>\n",
       "</table>\n",
       "</div>"
      ],
      "text/plain": [
       "                                       Key  Size              LastModified\n",
       "0  song_data/A/A/A/TRAAAAK128F9318786.json   225 2019-04-17 03:20:41+00:00\n",
       "1  song_data/A/A/A/TRAAAAV128F421A322.json   284 2019-04-17 03:20:41+00:00\n",
       "2  song_data/A/A/A/TRAAABD128F429CF47.json   249 2019-04-17 03:20:41+00:00"
      ]
     },
     "execution_count": 8,
     "metadata": {},
     "output_type": "execute_result"
    }
   ],
   "source": [
    "songdata_bucket, songdata_prefix = SONG_DATA.split('/')[2:4]\n",
    "resp = s3_client.list_objects_v2(Bucket=songdata_bucket, Prefix=songdata_prefix)\n",
    "\n",
    "df_songdata_files = pd.DataFrame(resp['Contents'])\n",
    "# removing directories by getting just objects with size greater than 0\n",
    "df_songdata_files = df_songdata_files[df_songdata_files['Size'] > 0].reset_index()\n",
    "\n",
    "df_songdata_files[['Key', 'Size', 'LastModified']].head(3)"
   ]
  },
  {
   "cell_type": "code",
   "execution_count": 10,
   "metadata": {},
   "outputs": [
    {
     "data": {
      "text/plain": [
       "248679"
      ]
     },
     "execution_count": 10,
     "metadata": {},
     "output_type": "execute_result"
    }
   ],
   "source": [
    "df_songdata_files['Size'].sum()"
   ]
  },
  {
   "cell_type": "markdown",
   "metadata": {},
   "source": [
    "<a id='s3-2'></a>\n",
    "### S3 list of objects - number of rows\n",
    "[Go to Table of contents](#s1)"
   ]
  },
  {
   "cell_type": "code",
   "execution_count": 13,
   "metadata": {},
   "outputs": [
    {
     "data": {
      "text/plain": [
       "5994"
      ]
     },
     "execution_count": 13,
     "metadata": {},
     "output_type": "execute_result"
    }
   ],
   "source": [
    "df_songdata_files.size"
   ]
  },
  {
   "cell_type": "markdown",
   "metadata": {},
   "source": [
    "<a id='s3-3'></a>\n",
    "### S3 list of objects - first object content\n",
    "[Go to Table of contents](#s1)"
   ]
  },
  {
   "cell_type": "code",
   "execution_count": 14,
   "metadata": {},
   "outputs": [
    {
     "data": {
      "text/plain": [
       "{'artist_id': 'AR73AIO1187B9AD57B',\n",
       " 'artist_latitude': 37.77916,\n",
       " 'artist_location': 'San Francisco, CA',\n",
       " 'artist_longitude': -122.42005,\n",
       " 'artist_name': 'Western Addiction',\n",
       " 'duration': 118.07302,\n",
       " 'num_songs': 1,\n",
       " 'song_id': 'SOQPWCR12A6D4FB2A3',\n",
       " 'title': 'A Poor Recipe For Civic Cohesion',\n",
       " 'year': 2005}"
      ]
     },
     "execution_count": 14,
     "metadata": {},
     "output_type": "execute_result"
    }
   ],
   "source": [
    "first_object = df_songdata_files.loc[1,'Key']\n",
    "resp = s3_client.get_object(Bucket=songdata_bucket, Key=first_object)\n",
    "data = resp.get('Body').read()\n",
    "\n",
    "json.loads(data)"
   ]
  },
  {
   "cell_type": "markdown",
   "metadata": {},
   "source": [
    "<a id='s4'></a>\n",
    "## Log data\n",
    "[Go to Table of contents](#s1)\n",
    "\n",
    "Description given by udacity:\n",
    "> The second dataset consists of log files in JSON format generated by this [event simulator](https://github.com/Interana/eventsim) based on the songs in the dataset above.\n",
    "> These simulate app activity logs from an imaginary music streaming app based on configuration settings.\n",
    "> <br />The log files in the dataset you'll be working with are partitioned by year and month. "
   ]
  },
  {
   "cell_type": "markdown",
   "metadata": {},
   "source": [
    "<a id='s4-1'></a>\n",
    "### Log data JSON path\n",
    "[Go to Table of contents](#s1)"
   ]
  },
  {
   "cell_type": "code",
   "execution_count": 5,
   "metadata": {},
   "outputs": [
    {
     "data": {
      "text/plain": [
       "{'jsonpaths': [\"$['artist']\",\n",
       "  \"$['auth']\",\n",
       "  \"$['firstName']\",\n",
       "  \"$['gender']\",\n",
       "  \"$['itemInSession']\",\n",
       "  \"$['lastName']\",\n",
       "  \"$['length']\",\n",
       "  \"$['level']\",\n",
       "  \"$['location']\",\n",
       "  \"$['method']\",\n",
       "  \"$['page']\",\n",
       "  \"$['registration']\",\n",
       "  \"$['sessionId']\",\n",
       "  \"$['song']\",\n",
       "  \"$['status']\",\n",
       "  \"$['ts']\",\n",
       "  \"$['userAgent']\",\n",
       "  \"$['userId']\"]}"
      ]
     },
     "execution_count": 5,
     "metadata": {},
     "output_type": "execute_result"
    }
   ],
   "source": [
    "logjson_bucket, logjson_key = LOG_JSONPATH.split('/')[2:4]\n",
    "\n",
    "resp = s3_client.get_object(Bucket=logjson_bucket, Key=logjson_key)\n",
    "data = resp.get('Body').read()\n",
    "\n",
    "json.loads(data)"
   ]
  },
  {
   "cell_type": "code",
   "execution_count": 7,
   "metadata": {},
   "outputs": [
    {
     "data": {
      "text/plain": [
       "{'ResponseMetadata': {'RequestId': 'YFC9R0SZEE2T1KKZ',\n",
       "  'HostId': 'rD4JNO9ESusGkh665QBmFqx6aIpAZYkqEjwjaiedq7rFc2yIFZsLUV57Y792clc/t6pYJhhc9Vc=',\n",
       "  'HTTPStatusCode': 200,\n",
       "  'HTTPHeaders': {'x-amz-id-2': 'rD4JNO9ESusGkh665QBmFqx6aIpAZYkqEjwjaiedq7rFc2yIFZsLUV57Y792clc/t6pYJhhc9Vc=',\n",
       "   'x-amz-request-id': 'YFC9R0SZEE2T1KKZ',\n",
       "   'date': 'Fri, 19 Nov 2021 00:43:54 GMT',\n",
       "   'etag': '\"13e1cc00878874d37d7091ac4333d1e7\"',\n",
       "   'server': 'AmazonS3',\n",
       "   'content-length': '0'},\n",
       "  'RetryAttempts': 0},\n",
       " 'ETag': '\"13e1cc00878874d37d7091ac4333d1e7\"'}"
      ]
     },
     "execution_count": 7,
     "metadata": {},
     "output_type": "execute_result"
    }
   ],
   "source": [
    "songs_jsonpaths = {\n",
    "    'jsonpaths': [\n",
    "        \"$['artist_id']\",\n",
    "        \"$['artist_latitude']\",\n",
    "        \"$['artist_location']\",\n",
    "        \"$['artist_longitude']\",\n",
    "        \"$['artist_name']\",\n",
    "        \"$['duration']\",\n",
    "        \"$['num_songs']\",\n",
    "        \"$['song_id']\",\n",
    "        \"$['title']\",\n",
    "        \"$['year']\"\n",
    "    ]\n",
    "}\n",
    "\n",
    "s3_client.put_object(\n",
    "    Body=json.dumps(songs_jsonpaths).encode('UTF-8'),\n",
    "    Bucket='jsonpaths-dj',\n",
    "    Key='songs.json'\n",
    ")"
   ]
  },
  {
   "cell_type": "markdown",
   "metadata": {},
   "source": [
    "<a id='s4-2'></a>\n",
    "### S3 list of objects\n",
    "[Go to Table of contents](#s1)"
   ]
  },
  {
   "cell_type": "code",
   "execution_count": 5,
   "metadata": {},
   "outputs": [
    {
     "data": {
      "text/html": [
       "<div>\n",
       "<style scoped>\n",
       "    .dataframe tbody tr th:only-of-type {\n",
       "        vertical-align: middle;\n",
       "    }\n",
       "\n",
       "    .dataframe tbody tr th {\n",
       "        vertical-align: top;\n",
       "    }\n",
       "\n",
       "    .dataframe thead th {\n",
       "        text-align: right;\n",
       "    }\n",
       "</style>\n",
       "<table border=\"1\" class=\"dataframe\">\n",
       "  <thead>\n",
       "    <tr style=\"text-align: right;\">\n",
       "      <th></th>\n",
       "      <th>Key</th>\n",
       "      <th>Size</th>\n",
       "      <th>LastModified</th>\n",
       "    </tr>\n",
       "  </thead>\n",
       "  <tbody>\n",
       "    <tr>\n",
       "      <th>0</th>\n",
       "      <td>log_data/2018/11/2018-11-01-events.json</td>\n",
       "      <td>7151</td>\n",
       "      <td>2019-04-17 12:03:13+00:00</td>\n",
       "    </tr>\n",
       "    <tr>\n",
       "      <th>1</th>\n",
       "      <td>log_data/2018/11/2018-11-02-events.json</td>\n",
       "      <td>83585</td>\n",
       "      <td>2019-04-17 12:03:13+00:00</td>\n",
       "    </tr>\n",
       "    <tr>\n",
       "      <th>2</th>\n",
       "      <td>log_data/2018/11/2018-11-03-events.json</td>\n",
       "      <td>54084</td>\n",
       "      <td>2019-04-17 12:03:13+00:00</td>\n",
       "    </tr>\n",
       "  </tbody>\n",
       "</table>\n",
       "</div>"
      ],
      "text/plain": [
       "                                       Key   Size              LastModified\n",
       "0  log_data/2018/11/2018-11-01-events.json   7151 2019-04-17 12:03:13+00:00\n",
       "1  log_data/2018/11/2018-11-02-events.json  83585 2019-04-17 12:03:13+00:00\n",
       "2  log_data/2018/11/2018-11-03-events.json  54084 2019-04-17 12:03:13+00:00"
      ]
     },
     "execution_count": 5,
     "metadata": {},
     "output_type": "execute_result"
    }
   ],
   "source": [
    "logdata_bucket, logdata_prefix = LOG_DATA.split('/')[2:4]\n",
    "resp = s3_client.list_objects_v2(Bucket=logdata_bucket, Prefix=logdata_prefix)\n",
    "\n",
    "df_logdata_files = pd.DataFrame(resp['Contents'])\n",
    "# removing directories by getting just objects with size greater than 0\n",
    "df_logdata_files = df_logdata_files[df_logdata_files['Size'] > 0].reset_index()\n",
    "\n",
    "df_logdata_files[['Key', 'Size', 'LastModified']].head(3)"
   ]
  },
  {
   "cell_type": "markdown",
   "metadata": {},
   "source": [
    "<a id='s4-3'></a>\n",
    "### S3 list of objects - number of rows\n",
    "[Go to Table of contents](#s1)"
   ]
  },
  {
   "cell_type": "code",
   "execution_count": 6,
   "metadata": {},
   "outputs": [
    {
     "data": {
      "text/plain": [
       "180"
      ]
     },
     "execution_count": 6,
     "metadata": {},
     "output_type": "execute_result"
    }
   ],
   "source": [
    "df_logdata_files.size"
   ]
  },
  {
   "cell_type": "markdown",
   "metadata": {},
   "source": [
    "<a id='s4-4'></a>\n",
    "### S3 list of objects - first object content\n",
    "[Go to Table of contents](#s1)"
   ]
  },
  {
   "cell_type": "code",
   "execution_count": 7,
   "metadata": {},
   "outputs": [
    {
     "data": {
      "text/plain": [
       "{'artist': None,\n",
       " 'auth': 'Logged In',\n",
       " 'firstName': 'Walter',\n",
       " 'gender': 'M',\n",
       " 'itemInSession': 0,\n",
       " 'lastName': 'Frye',\n",
       " 'length': None,\n",
       " 'level': 'free',\n",
       " 'location': 'San Francisco-Oakland-Hayward, CA',\n",
       " 'method': 'GET',\n",
       " 'page': 'Home',\n",
       " 'registration': 1540919166796.0,\n",
       " 'sessionId': 38,\n",
       " 'song': None,\n",
       " 'status': 200,\n",
       " 'ts': 1541105830796,\n",
       " 'userAgent': '\"Mozilla/5.0 (Macintosh; Intel Mac OS X 10_9_4) AppleWebKit/537.36 (KHTML, like Gecko) Chrome/36.0.1985.143 Safari/537.36\"',\n",
       " 'userId': '39'}"
      ]
     },
     "execution_count": 7,
     "metadata": {},
     "output_type": "execute_result"
    }
   ],
   "source": [
    "first_object = df_logdata_files.loc[0,'Key']\n",
    "resp = s3_client.get_object(Bucket=logdata_bucket, Key=first_object)\n",
    "data = resp.get('Body').read()\n",
    "\n",
    "df_first_object = pd.read_json(data, lines=True)\n",
    "first_record = data.splitlines()[0]\n",
    "\n",
    "json.loads(first_record)"
   ]
  },
  {
   "cell_type": "code",
   "execution_count": 11,
   "metadata": {},
   "outputs": [
    {
     "data": {
      "text/html": [
       "<div>\n",
       "<style scoped>\n",
       "    .dataframe tbody tr th:only-of-type {\n",
       "        vertical-align: middle;\n",
       "    }\n",
       "\n",
       "    .dataframe tbody tr th {\n",
       "        vertical-align: top;\n",
       "    }\n",
       "\n",
       "    .dataframe thead th {\n",
       "        text-align: right;\n",
       "    }\n",
       "</style>\n",
       "<table border=\"1\" class=\"dataframe\">\n",
       "  <thead>\n",
       "    <tr style=\"text-align: right;\">\n",
       "      <th></th>\n",
       "      <th>artist</th>\n",
       "      <th>auth</th>\n",
       "      <th>firstName</th>\n",
       "      <th>gender</th>\n",
       "      <th>itemInSession</th>\n",
       "      <th>lastName</th>\n",
       "      <th>length</th>\n",
       "      <th>level</th>\n",
       "      <th>location</th>\n",
       "      <th>method</th>\n",
       "      <th>page</th>\n",
       "      <th>registration</th>\n",
       "      <th>sessionId</th>\n",
       "      <th>song</th>\n",
       "      <th>status</th>\n",
       "      <th>ts</th>\n",
       "      <th>userAgent</th>\n",
       "      <th>userId</th>\n",
       "    </tr>\n",
       "  </thead>\n",
       "  <tbody>\n",
       "    <tr>\n",
       "      <th>0</th>\n",
       "      <td>None</td>\n",
       "      <td>Logged In</td>\n",
       "      <td>Walter</td>\n",
       "      <td>M</td>\n",
       "      <td>0</td>\n",
       "      <td>Frye</td>\n",
       "      <td>NaN</td>\n",
       "      <td>free</td>\n",
       "      <td>San Francisco-Oakland-Hayward, CA</td>\n",
       "      <td>GET</td>\n",
       "      <td>Home</td>\n",
       "      <td>1540919166796</td>\n",
       "      <td>38</td>\n",
       "      <td>None</td>\n",
       "      <td>200</td>\n",
       "      <td>1541105830796</td>\n",
       "      <td>\"Mozilla/5.0 (Macintosh; Intel Mac OS X 10_9_4...</td>\n",
       "      <td>39</td>\n",
       "    </tr>\n",
       "    <tr>\n",
       "      <th>1</th>\n",
       "      <td>None</td>\n",
       "      <td>Logged In</td>\n",
       "      <td>Kaylee</td>\n",
       "      <td>F</td>\n",
       "      <td>0</td>\n",
       "      <td>Summers</td>\n",
       "      <td>NaN</td>\n",
       "      <td>free</td>\n",
       "      <td>Phoenix-Mesa-Scottsdale, AZ</td>\n",
       "      <td>GET</td>\n",
       "      <td>Home</td>\n",
       "      <td>1540344794796</td>\n",
       "      <td>139</td>\n",
       "      <td>None</td>\n",
       "      <td>200</td>\n",
       "      <td>1541106106796</td>\n",
       "      <td>\"Mozilla/5.0 (Windows NT 6.1; WOW64) AppleWebK...</td>\n",
       "      <td>8</td>\n",
       "    </tr>\n",
       "    <tr>\n",
       "      <th>2</th>\n",
       "      <td>Des'ree</td>\n",
       "      <td>Logged In</td>\n",
       "      <td>Kaylee</td>\n",
       "      <td>F</td>\n",
       "      <td>1</td>\n",
       "      <td>Summers</td>\n",
       "      <td>246.30812</td>\n",
       "      <td>free</td>\n",
       "      <td>Phoenix-Mesa-Scottsdale, AZ</td>\n",
       "      <td>PUT</td>\n",
       "      <td>NextSong</td>\n",
       "      <td>1540344794796</td>\n",
       "      <td>139</td>\n",
       "      <td>You Gotta Be</td>\n",
       "      <td>200</td>\n",
       "      <td>1541106106796</td>\n",
       "      <td>\"Mozilla/5.0 (Windows NT 6.1; WOW64) AppleWebK...</td>\n",
       "      <td>8</td>\n",
       "    </tr>\n",
       "  </tbody>\n",
       "</table>\n",
       "</div>"
      ],
      "text/plain": [
       "    artist       auth firstName gender  itemInSession lastName     length  \\\n",
       "0     None  Logged In    Walter      M              0     Frye        NaN   \n",
       "1     None  Logged In    Kaylee      F              0  Summers        NaN   \n",
       "2  Des'ree  Logged In    Kaylee      F              1  Summers  246.30812   \n",
       "\n",
       "  level                           location method      page   registration  \\\n",
       "0  free  San Francisco-Oakland-Hayward, CA    GET      Home  1540919166796   \n",
       "1  free        Phoenix-Mesa-Scottsdale, AZ    GET      Home  1540344794796   \n",
       "2  free        Phoenix-Mesa-Scottsdale, AZ    PUT  NextSong  1540344794796   \n",
       "\n",
       "   sessionId          song  status             ts  \\\n",
       "0         38          None     200  1541105830796   \n",
       "1        139          None     200  1541106106796   \n",
       "2        139  You Gotta Be     200  1541106106796   \n",
       "\n",
       "                                           userAgent  userId  \n",
       "0  \"Mozilla/5.0 (Macintosh; Intel Mac OS X 10_9_4...      39  \n",
       "1  \"Mozilla/5.0 (Windows NT 6.1; WOW64) AppleWebK...       8  \n",
       "2  \"Mozilla/5.0 (Windows NT 6.1; WOW64) AppleWebK...       8  "
      ]
     },
     "execution_count": 11,
     "metadata": {},
     "output_type": "execute_result"
    }
   ],
   "source": [
    "df_first_object.head(3)"
   ]
  },
  {
   "cell_type": "code",
   "execution_count": null,
   "metadata": {},
   "outputs": [],
   "source": []
  }
 ],
 "metadata": {
  "interpreter": {
   "hash": "2b36fbeaf2129fd9483dfa3cbbec24cf9003a90911d9d3242f3c6010955976db"
  },
  "kernelspec": {
   "display_name": "Python 3.9.7 64-bit ('.venv': venv)",
   "language": "python",
   "name": "python3"
  },
  "language_info": {
   "codemirror_mode": {
    "name": "ipython",
    "version": 3
   },
   "file_extension": ".py",
   "mimetype": "text/x-python",
   "name": "python",
   "nbconvert_exporter": "python",
   "pygments_lexer": "ipython3",
   "version": "3.9.7"
  },
  "orig_nbformat": 4
 },
 "nbformat": 4,
 "nbformat_minor": 2
}
